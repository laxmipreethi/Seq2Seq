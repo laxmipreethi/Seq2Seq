{
  "nbformat": 4,
  "nbformat_minor": 0,
  "metadata": {
    "colab": {
      "name": "Copy of Seq2Seq_Translation_New.ipynb",
      "provenance": [],
      "collapsed_sections": []
    },
    "kernelspec": {
      "name": "python3",
      "display_name": "Python 3"
    }
  },
  "cells": [
    {
      "cell_type": "code",
      "metadata": {
        "id": "9QQxTtUWopgA",
        "colab_type": "code",
        "colab": {
          "base_uri": "https://localhost:8080/",
          "height": 156
        },
        "outputId": "cab4b032-e5ed-4c97-a0f7-23ee7a3bbee1"
      },
      "source": [
        "# https://medium.com/analytics-vidhya/understand-sequence-to-sequence-models-in-a-more-intuitive-way-1d517d8795bb",
        "!wget --header=\"Host: www.manythings.org\" --header=\"User-Agent: Mozilla/5.0 (Windows NT 10.0; Win64; x64) AppleWebKit/537.36 (KHTML, like Gecko) Chrome/81.0.4044.113 Safari/537.36\" --header=\"Accept: text/html,application/xhtml+xml,application/xml;q=0.9,image/webp,image/apng,*/*;q=0.8,application/signed-exchange;v=b3;q=0.9\" --header=\"Accept-Language: en-IN,en;q=0.9,en-US;q=0.8,te;q=0.7\" --header=\"Referer: https://colab.research.google.com/\" --header=\"Cookie: __cfduid=dde45c9abac49727094edb9704ceb6c4a1587288097; __utma=3028652.767071753.1587288101.1587288101.1587288101.1; __utmz=3028652.1587288101.1.1.utmcsr=(direct)|utmccn=(direct)|utmcmd=(none)\" --header=\"Connection: keep-alive\" \"http://www.manythings.org/anki/ita-eng.zip\" -c -O 'ita-eng.zip'"
      ],
      "execution_count": null,
      "outputs": [
        {
          "output_type": "stream",
          "text": [
            "--2020-07-22 03:56:44--  http://www.manythings.org/anki/ita-eng.zip\n",
            "Resolving www.manythings.org (www.manythings.org)... 104.24.109.196, 104.24.108.196, 172.67.173.198, ...\n",
            "Connecting to www.manythings.org (www.manythings.org)|104.24.109.196|:80... connected.\n",
            "HTTP request sent, awaiting response... 416 Requested Range Not Satisfiable\n",
            "\n",
            "    The file is already fully retrieved; nothing to do.\n",
            "\n"
          ],
          "name": "stdout"
        }
      ]
    },
    {
      "cell_type": "code",
      "metadata": {
        "id": "6PQx1ooZos_H",
        "colab_type": "code",
        "colab": {
          "base_uri": "https://localhost:8080/",
          "height": 102
        },
        "outputId": "57edb8cd-3611-4b9d-e160-3a603529da31"
      },
      "source": [
        "from zipfile import ZipFile \n",
        "  \n",
        "# specifying the zip file name \n",
        "file_name = \"ita-eng.zip\"\n",
        "  \n",
        "# opening the zip file in READ mode \n",
        "with ZipFile(file_name, 'r') as zip: \n",
        "    # printing all the contents of the zip file \n",
        "    zip.printdir() \n",
        "  \n",
        "    # extracting all the files \n",
        "    print('Extracting all the files now...') \n",
        "    zip.extractall() \n",
        "    print('Done!')\n",
        "del zip"
      ],
      "execution_count": null,
      "outputs": [
        {
          "output_type": "stream",
          "text": [
            "File Name                                             Modified             Size\n",
            "ita.txt                                        2020-06-28 02:05:18     48492727\n",
            "_about.txt                                     2020-06-28 02:05:18         1441\n",
            "Extracting all the files now...\n",
            "Done!\n"
          ],
          "name": "stdout"
        }
      ]
    },
    {
      "cell_type": "code",
      "metadata": {
        "id": "O91hIVuKotCe",
        "colab_type": "code",
        "colab": {}
      },
      "source": [
        "import warnings\n",
        "warnings.filterwarnings(\"ignore\")\n",
        "import tensorflow as tf\n",
        "tf.compat.v1.enable_eager_execution()\n",
        "import os\n",
        "import re\n",
        "path=os.getcwd()+'/ita.txt'\n",
        "# To read the file\n",
        "import io\n",
        "import numpy as np\n",
        "# For normalizing data\n",
        "import unicodedata\n",
        "# Tensorflow libraries\n",
        "from tensorflow.keras.preprocessing.text import Tokenizer \n",
        "from tensorflow.keras.preprocessing.sequence import pad_sequences \n",
        "from tensorflow.keras.layers import Input, Softmax, RNN, Dense, Embedding, LSTM,TimeDistributed\n",
        "from tensorflow.keras.models import Model\n",
        "from tensorflow.keras import backend as K\n",
        "# Metric that can tell the strength of relation between two sentences\n",
        "import nltk.translate.bleu_score as bleu\n"
      ],
      "execution_count": null,
      "outputs": []
    },
    {
      "cell_type": "code",
      "metadata": {
        "id": "WO-lnLtWowmK",
        "colab_type": "code",
        "colab": {}
      },
      "source": [
        "K.clear_session()"
      ],
      "execution_count": null,
      "outputs": []
    },
    {
      "cell_type": "code",
      "metadata": {
        "id": "P0ktlpmwowpB",
        "colab_type": "code",
        "colab": {}
      },
      "source": [
        "# Converting into unicode --http://stackoverflow.com/a/518232/2809427\n",
        "def unicode_to_ascii(s):\n",
        "    return ''.join(\n",
        "        c for c in unicodedata.normalize('NFD', s)\n",
        "        if unicodedata.category(c) != 'Mn')\n",
        "\n",
        "# Function to convert into lower case, remove punctuation.\n",
        "def normalize_string(s):\n",
        "    s = unicode_to_ascii(s.lower().strip())\n",
        "    s = re.sub(r'([!.?])', r' \\1', s)\n",
        "    s = re.sub(r'[^a-zA-Z.!?]+', r' ', s)\n",
        "    s = re.sub(r'\\s+', r' ', s)\n",
        "    return s"
      ],
      "execution_count": null,
      "outputs": []
    },
    {
      "cell_type": "code",
      "metadata": {
        "id": "nLLewnjgo555",
        "colab_type": "code",
        "colab": {}
      },
      "source": [
        "lines=io.open(path,encoding='UTF-8').read().split('\\n')"
      ],
      "execution_count": null,
      "outputs": []
    },
    {
      "cell_type": "code",
      "metadata": {
        "id": "EsyV3xAFo582",
        "colab_type": "code",
        "colab": {
          "base_uri": "https://localhost:8080/",
          "height": 54
        },
        "outputId": "2c65d380-ba59-4b1a-8498-1759699bf0fd"
      },
      "source": [
        "\n",
        "# Raw data\n",
        "lines[9010]"
      ],
      "execution_count": null,
      "outputs": [
        {
          "output_type": "execute_result",
          "data": {
            "application/vnd.google.colaboratory.intrinsic": {
              "type": "string"
            },
            "text/plain": [
              "\"It's my book.\\tÈ il mio libro.\\tCC-BY 2.0 (France) Attribution: tatoeba.org #1042295 (yessoos) & #3220417 (Guybrush88)\""
            ]
          },
          "metadata": {
            "tags": []
          },
          "execution_count": 23
        }
      ]
    },
    {
      "cell_type": "code",
      "metadata": {
        "id": "YinmkLtRo6Ap",
        "colab_type": "code",
        "colab": {}
      },
      "source": [
        "def makedata(num_examples):\n",
        "    '''\n",
        "      The function will return eng - Ita sentences pairs\n",
        "    '''\n",
        "    ita_data=[]\n",
        "    eng_data=[]\n",
        "    eng_in=[]\n",
        "    eng_out=[]\n",
        "    for i in range(num_examples):\n",
        "        \n",
        "        eng,ita,_=lines[i].split('\\t')\n",
        "        \n",
        "        # lines = 'Step back.\\tFaccia un passo indietro.\\tCC-BY 2.0 (France) Attribution: tatoeba.org #1553393 (CK) & #5282708 (Guybrush88)'\n",
        "        # eng = Step back.\n",
        "        # ita = Faccia un passo indietro.\n",
        "\n",
        "        eng=normalize_string(eng)\n",
        "        ita=normalize_string(ita)\n",
        "\n",
        "        # For decoder input we will add start tag\n",
        "        eng_in_='<start> '+eng\n",
        "        # For decoder output we will add end tag\n",
        "        eng_out_= eng + ' <end>'\n",
        "        eng= '<start> ' +eng + ' <end>'\n",
        "        ita_data.append(ita)\n",
        "        eng_in.append(eng_in_)\n",
        "        eng_out.append(eng_out_)\n",
        "        eng_data.append(eng)\n",
        "    \n",
        "    return ita_data,eng_in,eng_out,eng_data"
      ],
      "execution_count": null,
      "outputs": []
    },
    {
      "cell_type": "code",
      "metadata": {
        "id": "Ma2eMSAdpUBM",
        "colab_type": "code",
        "colab": {
          "base_uri": "https://localhost:8080/",
          "height": 34
        },
        "outputId": "460c82cd-9731-4d12-b33b-c65aae397cc0"
      },
      "source": [
        "len(lines)"
      ],
      "execution_count": null,
      "outputs": [
        {
          "output_type": "execute_result",
          "data": {
            "text/plain": [
              "340433"
            ]
          },
          "metadata": {
            "tags": []
          },
          "execution_count": 25
        }
      ]
    },
    {
      "cell_type": "code",
      "metadata": {
        "id": "FVBxjAijpCyE",
        "colab_type": "code",
        "colab": {}
      },
      "source": [
        "num_examples=20000\n",
        "ita_data,eng_in,eng_out,eng_data=makedata(num_examples)"
      ],
      "execution_count": null,
      "outputs": []
    },
    {
      "cell_type": "code",
      "metadata": {
        "id": "3AnkRyfgpc0I",
        "colab_type": "code",
        "colab": {
          "base_uri": "https://localhost:8080/",
          "height": 68
        },
        "outputId": "2abd982f-9b2a-4cab-f6c4-34caf8076f08"
      },
      "source": [
        "print('Encoder  input:',ita_data[-1][:-1])\n",
        "print('Decoder  input:',eng_in[-1][:-1])\n",
        "print('Decoder output:', eng_in[-1][4:-1]+'<end>')"
      ],
      "execution_count": null,
      "outputs": [
        {
          "output_type": "stream",
          "text": [
            "Encoder  input: mi ha infastidita \n",
            "Decoder  input: <start> it bothered me \n",
            "Decoder output: rt> it bothered me <end>\n"
          ],
          "name": "stdout"
        }
      ]
    },
    {
      "cell_type": "code",
      "metadata": {
        "id": "7jt9-qNBq3eD",
        "colab_type": "code",
        "colab": {}
      },
      "source": [
        "#Tokenizer\n",
        "# Converting the text data to integer words\n",
        "\n",
        "# Declare a tokenizer\n",
        "ita_tokenizer=Tokenizer(filters='')\n",
        "# Fit the tokenizer on Italy language pairs\n",
        "ita_tokenizer.fit_on_texts(ita_data)\n",
        "# inp_lan will have an integer represented for each word\n",
        "inp_lan=ita_tokenizer.texts_to_sequences(ita_data)\n",
        "# Pad sequences (By default it will pad zeros till the max length of the ita_data)\n",
        "inp_lan=pad_sequences(inp_lan,padding='post')\n",
        "# Here inp_lan is the encoder input data."
      ],
      "execution_count": null,
      "outputs": []
    },
    {
      "cell_type": "code",
      "metadata": {
        "id": "hJUD7NsVq3gp",
        "colab_type": "code",
        "colab": {}
      },
      "source": [
        "#Tokenizer for Decoder input and output\n",
        "# Declare the tokenizer for english words\n",
        "eng_tokenizer=Tokenizer(filters='')\n",
        "# we are fitting on eng_data not on eng_in or eng_out as it has both <start> and <end> tags\n",
        "eng_tokenizer.fit_on_texts(eng_data)\n",
        "\n",
        "# Decoder input data\n",
        "tar_lan_in=eng_tokenizer.texts_to_sequences(eng_in)\n",
        "tar_lan_in=pad_sequences(tar_lan_in,padding='post')\n",
        "\n",
        "# Decoder output data\n",
        "tar_lan_out=eng_tokenizer.texts_to_sequences(eng_out)\n",
        "tar_lan_out=pad_sequences(tar_lan_out,padding='post')"
      ],
      "execution_count": null,
      "outputs": []
    },
    {
      "cell_type": "code",
      "metadata": {
        "id": "uBitdJe9q3jJ",
        "colab_type": "code",
        "colab": {
          "base_uri": "https://localhost:8080/",
          "height": 119
        },
        "outputId": "1511d3e1-4e4d-48b8-ab25-fc06f8d2d85a"
      },
      "source": [
        "print('Encoder input Text data:',ita_data[9010])\n",
        "print('Integer representation: ',inp_lan[9010])\n",
        "print('Decoder input Text data:',eng_in[9010])\n",
        "print('Integer representation: ',tar_lan_in[9010])\n",
        "print('Decoder output Text data:',eng_out[9010])\n",
        "print('Integer representation: ',tar_lan_out[9010])"
      ],
      "execution_count": null,
      "outputs": [
        {
          "output_type": "stream",
          "text": [
            "Encoder input Text data: e il mio libro .\n",
            "Integer representation:  [  4  19  63 209   1   0   0   0   0]\n",
            "Decoder input Text data: <start> it s my book .\n",
            "Integer representation:  [  1   8  13  40 244   3   0]\n",
            "Decoder output Text data: it s my book . <end>\n",
            "Integer representation:  [  8  13  40 244   3   2   0]\n"
          ],
          "name": "stdout"
        }
      ]
    },
    {
      "cell_type": "code",
      "metadata": {
        "id": "CLB54m4frKUj",
        "colab_type": "code",
        "colab": {}
      },
      "source": [
        "#Total number of unique words in english and italian\n",
        "# Total number of unique words in Italian sentence \n",
        "ita_vocab_size=len(ita_tokenizer.word_index)+1\n",
        "# Total number of unique words in english sentence\n",
        "eng_vocab_size=len(eng_tokenizer.word_index)+1"
      ],
      "execution_count": null,
      "outputs": []
    },
    {
      "cell_type": "code",
      "metadata": {
        "id": "RnvJHpeurKXe",
        "colab_type": "code",
        "colab": {
          "base_uri": "https://localhost:8080/",
          "height": 102
        },
        "outputId": "65b30421-0786-4287-9b04-8f01e71e7c66"
      },
      "source": [
        "#CREATE english word : index pair \n",
        "# Max length of input_sequence, max_length of target sequence \n",
        "inp_seq_length=inp_lan[0].shape[0]\n",
        "tar_seq_length=tar_lan_in[0].shape[0]\n",
        "\n",
        "eng_index_word={}\n",
        "eng_word_index={}\n",
        "for key,value in eng_tokenizer.word_index.items():\n",
        "  eng_index_word[value]=key \n",
        "  eng_word_index[key]=value\n",
        "\n",
        "print('input lang in',inp_lan.shape)\n",
        "print('target lang in',tar_lan_in.shape)\n",
        "print('target lang out',tar_lan_out.shape)\n",
        "\n",
        "# Total number of unique words in Italian sentence \n",
        "ita_vocab_size=len(ita_tokenizer.word_index)+1\n",
        "# Total number of unique words in english sentence\n",
        "eng_vocab_size=len(eng_tokenizer.word_index)+1\n",
        "\n",
        "print('English vocab size',eng_vocab_size)\n",
        "print('Italy vocab size',ita_vocab_size)\n",
        "#print(ita_tokenizer_in.word_index)"
      ],
      "execution_count": null,
      "outputs": [
        {
          "output_type": "stream",
          "text": [
            "input lang in (20000, 9)\n",
            "target lang in (20000, 7)\n",
            "target lang out (20000, 7)\n",
            "English vocab size 2244\n",
            "Italy vocab size 5540\n"
          ],
          "name": "stdout"
        }
      ]
    },
    {
      "cell_type": "code",
      "metadata": {
        "id": "hUgmbMZMuBY8",
        "colab_type": "code",
        "colab": {}
      },
      "source": [
        "#BUILDING MODEL\n",
        "\n",
        "#Encoder input shape will be (Batch_size,inp_seq_length) --\n",
        "#inp_seq_length = 20000\n",
        "input_encoder=Input(shape=(inp_seq_length,))\n",
        "\n",
        "# Encoder LSTM needs the input to be 3 dim. One easy way to add a dimension to this integer sequences is to add a Embedding layer.\n",
        "\n",
        "# input_encoder is passed to the embedding layer.  \n",
        "encoder_embedding=Embedding(input_dim=ita_vocab_size,output_dim=128)(input_encoder)\n",
        "# encoder_embedding shape is (Batch_size,inp_seq_length,output_dim) --\n",
        "# Trainable paramters is ita_vocab_size * 128. \n",
        "# Each integer in the input_encoder is converted to 128 dimensional vector\n",
        "\n",
        "#batch_size,9,128\n",
        "\n",
        "encoder_lstm = LSTM(256,return_state=True)(encoder_embedding)\n",
        "# Encoder_LSTM will return three arrays \n",
        "# 1. hidden_state/output of the last time step (None,256), \n",
        "# 2. hidden_state/ output of the last time step(None,256), \n",
        "# 2. cell_state of the last time step (None,256)\n"
      ],
      "execution_count": null,
      "outputs": []
    },
    {
      "cell_type": "code",
      "metadata": {
        "id": "8BNRd_JOuBa9",
        "colab_type": "code",
        "colab": {}
      },
      "source": [
        "encoder_states=encoder_lstm[1:]\n",
        "# Select the last two hidden states."
      ],
      "execution_count": null,
      "outputs": []
    },
    {
      "cell_type": "code",
      "metadata": {
        "id": "3dViw3B0v9_z",
        "colab_type": "code",
        "colab": {
          "base_uri": "https://localhost:8080/",
          "height": 34
        },
        "outputId": "a73bed16-fb67-4883-f212-7dc13b01f119"
      },
      "source": [
        "encoder_states[1]"
      ],
      "execution_count": null,
      "outputs": [
        {
          "output_type": "execute_result",
          "data": {
            "text/plain": [
              "<tf.Tensor 'lstm/Identity_2:0' shape=(None, 256) dtype=float32>"
            ]
          },
          "metadata": {
            "tags": []
          },
          "execution_count": 47
        }
      ]
    },
    {
      "cell_type": "code",
      "metadata": {
        "id": "O5MQ2AiUyD_n",
        "colab_type": "code",
        "colab": {}
      },
      "source": [
        "# Decoder input, we will keep the shape (None). Note: If none it can accept any size of data in dimension\n",
        "# The reason we are not fixing the input_decoder to max_length is during \n",
        "# inference we will be sending only one input at a time step and predict. \n",
        "\n",
        "input_decoder = Input(shape=(None,))\n",
        "# input_decoder shape is (None,None)\n",
        "\n",
        "decoder_embedding_layer=Embedding(input_dim=eng_vocab_size,output_dim=128)\n",
        "decoder_embedding_output=decoder_embedding_layer(input_decoder)\n",
        "# decoder_embedding_layer - (None,None,128) \n",
        "\n",
        "decoder_lstm=LSTM(256,return_sequences=True,return_state=True)\n",
        "decoder_output,_,_=decoder_lstm(decoder_embedding_output,initial_state=encoder_states)\n",
        "# decoder_lstm will return three outputs\n",
        "# 1. All the hiddenstate/output at each time step (None,None,256)\n",
        "# 2. hiddenstate/output at last time step (None,256)\n",
        "# 3. Cell state at last time step (None,256)"
      ],
      "execution_count": null,
      "outputs": []
    },
    {
      "cell_type": "code",
      "metadata": {
        "id": "5WtA8Qy3yhG6",
        "colab_type": "code",
        "colab": {}
      },
      "source": [
        "# Apply dense layer(units=eng_vocab_size) at every time step of the decoder_output\n",
        "decoder_dense=TimeDistributed( Dense(eng_vocab_size,activation='softmax'))\n",
        "dense_output= decoder_dense(decoder_output)\n",
        "# dense_output shape (None,none, eng_vocab_size)"
      ],
      "execution_count": null,
      "outputs": []
    },
    {
      "cell_type": "code",
      "metadata": {
        "id": "UmpGbohpynoV",
        "colab_type": "code",
        "colab": {}
      },
      "source": [
        "# Our model has two inputs, one to the encoder and other to the decoder. \n",
        "# outputs - Dense layer output\n",
        "model=Model([input_encoder,input_decoder],dense_output)"
      ],
      "execution_count": null,
      "outputs": []
    },
    {
      "cell_type": "code",
      "metadata": {
        "id": "-YxC-hxpypjU",
        "colab_type": "code",
        "colab": {
          "base_uri": "https://localhost:8080/",
          "height": 445
        },
        "outputId": "f1db8b46-83b6-4aa6-914b-57bdcdbc6029"
      },
      "source": [
        "model.summary()"
      ],
      "execution_count": null,
      "outputs": [
        {
          "output_type": "stream",
          "text": [
            "Model: \"model\"\n",
            "__________________________________________________________________________________________________\n",
            "Layer (type)                    Output Shape         Param #     Connected to                     \n",
            "==================================================================================================\n",
            "input_1 (InputLayer)            [(None, 9)]          0                                            \n",
            "__________________________________________________________________________________________________\n",
            "input_2 (InputLayer)            [(None, None)]       0                                            \n",
            "__________________________________________________________________________________________________\n",
            "embedding (Embedding)           (None, 9, 128)       709120      input_1[0][0]                    \n",
            "__________________________________________________________________________________________________\n",
            "embedding_1 (Embedding)         (None, None, 128)    287232      input_2[0][0]                    \n",
            "__________________________________________________________________________________________________\n",
            "lstm (LSTM)                     [(None, 256), (None, 394240      embedding[0][0]                  \n",
            "__________________________________________________________________________________________________\n",
            "lstm_1 (LSTM)                   [(None, None, 256),  394240      embedding_1[0][0]                \n",
            "                                                                 lstm[0][1]                       \n",
            "                                                                 lstm[0][2]                       \n",
            "__________________________________________________________________________________________________\n",
            "time_distributed (TimeDistribut (None, None, 2244)   576708      lstm_1[0][0]                     \n",
            "==================================================================================================\n",
            "Total params: 2,361,540\n",
            "Trainable params: 2,361,540\n",
            "Non-trainable params: 0\n",
            "__________________________________________________________________________________________________\n"
          ],
          "name": "stdout"
        }
      ]
    },
    {
      "cell_type": "code",
      "metadata": {
        "id": "BynhD3fb0VUy",
        "colab_type": "code",
        "colab": {
          "base_uri": "https://localhost:8080/",
          "height": 394
        },
        "outputId": "b5c1440a-00fe-4344-bc18-3269f95d1bd0"
      },
      "source": [
        "# if input_decoder shape is (None,max_length)\n",
        "# Dense output shape is (None,max_length,eng_vocab_size), decoder_output (None,max_length)\n",
        "# Target data is just integers, while predicted data is a softmax output\n",
        "# we apply sparse_categorical_crossentropy instead of categorical_crossentropy\n",
        "model.compile(optimizer='rmsprop', loss='sparse_categorical_crossentropy')\n",
        "# Train the model\n",
        "model.fit([inp_lan, tar_lan_in], tar_lan_out,\n",
        "          batch_size=64,\n",
        "          epochs=10,\n",
        "          validation_split=0.2)"
      ],
      "execution_count": null,
      "outputs": [
        {
          "output_type": "stream",
          "text": [
            "Epoch 1/10\n",
            "250/250 [==============================] - 44s 176ms/step - loss: 2.4579 - val_loss: 2.5577\n",
            "Epoch 2/10\n",
            "250/250 [==============================] - 44s 175ms/step - loss: 1.7455 - val_loss: 2.2298\n",
            "Epoch 3/10\n",
            "250/250 [==============================] - 43s 172ms/step - loss: 1.4644 - val_loss: 2.1329\n",
            "Epoch 4/10\n",
            "250/250 [==============================] - 43s 172ms/step - loss: 1.3068 - val_loss: 2.0348\n",
            "Epoch 5/10\n",
            "250/250 [==============================] - 44s 177ms/step - loss: 1.1857 - val_loss: 2.0121\n",
            "Epoch 6/10\n",
            "250/250 [==============================] - 43s 173ms/step - loss: 1.0867 - val_loss: 2.0179\n",
            "Epoch 7/10\n",
            "250/250 [==============================] - 44s 174ms/step - loss: 1.0047 - val_loss: 1.9854\n",
            "Epoch 8/10\n",
            "250/250 [==============================] - 44s 175ms/step - loss: 0.9342 - val_loss: 1.9392\n",
            "Epoch 9/10\n",
            "250/250 [==============================] - 43s 173ms/step - loss: 0.8700 - val_loss: 1.9636\n",
            "Epoch 10/10\n",
            "250/250 [==============================] - 43s 172ms/step - loss: 0.8137 - val_loss: 1.9541\n"
          ],
          "name": "stdout"
        },
        {
          "output_type": "execute_result",
          "data": {
            "text/plain": [
              "<tensorflow.python.keras.callbacks.History at 0x7f205716f588>"
            ]
          },
          "metadata": {
            "tags": []
          },
          "execution_count": 52
        }
      ]
    },
    {
      "cell_type": "code",
      "metadata": {
        "id": "iHHV7b3Y3A51",
        "colab_type": "code",
        "colab": {
          "base_uri": "https://localhost:8080/",
          "height": 394
        },
        "outputId": "45065631-2f7a-4afc-d4cf-fd80c3861dd4"
      },
      "source": [
        "# Train the model\n",
        "model.fit([inp_lan, tar_lan_in], tar_lan_out,\n",
        "          batch_size=64,\n",
        "          epochs=10,\n",
        "          validation_split=0.2)"
      ],
      "execution_count": null,
      "outputs": [
        {
          "output_type": "stream",
          "text": [
            "Epoch 1/10\n",
            "250/250 [==============================] - 43s 171ms/step - loss: 0.7636 - val_loss: 1.9662\n",
            "Epoch 2/10\n",
            "250/250 [==============================] - 43s 171ms/step - loss: 0.7173 - val_loss: 1.9767\n",
            "Epoch 3/10\n",
            "250/250 [==============================] - 44s 174ms/step - loss: 0.6699 - val_loss: 2.0033\n",
            "Epoch 4/10\n",
            "250/250 [==============================] - 43s 173ms/step - loss: 0.6297 - val_loss: 1.9971\n",
            "Epoch 5/10\n",
            "250/250 [==============================] - 43s 170ms/step - loss: 0.5900 - val_loss: 2.0215\n",
            "Epoch 6/10\n",
            "250/250 [==============================] - 43s 170ms/step - loss: 0.5512 - val_loss: 2.0360\n",
            "Epoch 7/10\n",
            "250/250 [==============================] - 43s 171ms/step - loss: 0.5192 - val_loss: 2.0565\n",
            "Epoch 8/10\n",
            "250/250 [==============================] - 43s 172ms/step - loss: 0.4873 - val_loss: 2.0647\n",
            "Epoch 9/10\n",
            "250/250 [==============================] - 43s 171ms/step - loss: 0.4576 - val_loss: 2.0687\n",
            "Epoch 10/10\n",
            "250/250 [==============================] - 43s 173ms/step - loss: 0.4301 - val_loss: 2.0988\n"
          ],
          "name": "stdout"
        },
        {
          "output_type": "execute_result",
          "data": {
            "text/plain": [
              "<tensorflow.python.keras.callbacks.History at 0x7f20552493c8>"
            ]
          },
          "metadata": {
            "tags": []
          },
          "execution_count": 53
        }
      ]
    },
    {
      "cell_type": "code",
      "metadata": {
        "id": "d87NJXEI5HP_",
        "colab_type": "code",
        "colab": {}
      },
      "source": [
        "#Inference\n",
        "\n",
        "encoder_model= Model(input_encoder,encoder_lstm)"
      ],
      "execution_count": null,
      "outputs": []
    },
    {
      "cell_type": "code",
      "metadata": {
        "id": "XUuqnVV69EtX",
        "colab_type": "code",
        "colab": {
          "base_uri": "https://localhost:8080/",
          "height": 255
        },
        "outputId": "574a865f-8d39-4edb-bf6d-ddfc68b5b7a4"
      },
      "source": [
        "encoder_model.summary()"
      ],
      "execution_count": null,
      "outputs": [
        {
          "output_type": "stream",
          "text": [
            "Model: \"model_1\"\n",
            "_________________________________________________________________\n",
            "Layer (type)                 Output Shape              Param #   \n",
            "=================================================================\n",
            "input_1 (InputLayer)         [(None, 9)]               0         \n",
            "_________________________________________________________________\n",
            "embedding (Embedding)        (None, 9, 128)            709120    \n",
            "_________________________________________________________________\n",
            "lstm (LSTM)                  [(None, 256), (None, 256) 394240    \n",
            "=================================================================\n",
            "Total params: 1,103,360\n",
            "Trainable params: 1,103,360\n",
            "Non-trainable params: 0\n",
            "_________________________________________________________________\n"
          ],
          "name": "stdout"
        }
      ]
    },
    {
      "cell_type": "code",
      "metadata": {
        "id": "kAV4oZcC-sbF",
        "colab_type": "code",
        "colab": {
          "base_uri": "https://localhost:8080/",
          "height": 312
        },
        "outputId": "ecf576fe-5ba7-4412-8387-33430eaa74dd"
      },
      "source": [
        "tf.keras.utils.plot_model(encoder_model, to_file='model_plot.png', show_shapes=True, show_layer_names=True)"
      ],
      "execution_count": null,
      "outputs": [
        {
          "output_type": "execute_result",
          "data": {
            "image/png": "[encoded data removed]",
            "text/plain": [
              "<IPython.core.display.Image object>"
            ]
          },
          "metadata": {
            "tags": []
          },
          "execution_count": 60
        }
      ]
    },
    {
      "cell_type": "code",
      "metadata": {
        "id": "UiDpcwb59c8F",
        "colab_type": "code",
        "colab": {
          "base_uri": "https://localhost:8080/",
          "height": 445
        },
        "outputId": "e0817319-e51f-438a-cf8a-2be765860703"
      },
      "source": [
        "model.summary()"
      ],
      "execution_count": null,
      "outputs": [
        {
          "output_type": "stream",
          "text": [
            "Model: \"model\"\n",
            "__________________________________________________________________________________________________\n",
            "Layer (type)                    Output Shape         Param #     Connected to                     \n",
            "==================================================================================================\n",
            "input_1 (InputLayer)            [(None, 9)]          0                                            \n",
            "__________________________________________________________________________________________________\n",
            "input_2 (InputLayer)            [(None, None)]       0                                            \n",
            "__________________________________________________________________________________________________\n",
            "embedding (Embedding)           (None, 9, 128)       709120      input_1[0][0]                    \n",
            "__________________________________________________________________________________________________\n",
            "embedding_1 (Embedding)         (None, None, 128)    287232      input_2[0][0]                    \n",
            "__________________________________________________________________________________________________\n",
            "lstm (LSTM)                     [(None, 256), (None, 394240      embedding[0][0]                  \n",
            "__________________________________________________________________________________________________\n",
            "lstm_1 (LSTM)                   [(None, None, 256),  394240      embedding_1[0][0]                \n",
            "                                                                 lstm[0][1]                       \n",
            "                                                                 lstm[0][2]                       \n",
            "__________________________________________________________________________________________________\n",
            "time_distributed (TimeDistribut (None, None, 2244)   576708      lstm_1[0][0]                     \n",
            "==================================================================================================\n",
            "Total params: 2,361,540\n",
            "Trainable params: 2,361,540\n",
            "Non-trainable params: 0\n",
            "__________________________________________________________________________________________________\n"
          ],
          "name": "stdout"
        }
      ]
    },
    {
      "cell_type": "code",
      "metadata": {
        "id": "n3NhxdzS8caL",
        "colab_type": "code",
        "colab": {
          "base_uri": "https://localhost:8080/",
          "height": 119
        },
        "outputId": "9906419c-1643-44a9-d661-de5818c6d179"
      },
      "source": [
        "print(encoder_model.layers[1].weights[0][0][:10])\n",
        "print(model.layers[2].weights[0][0][:10])"
      ],
      "execution_count": null,
      "outputs": [
        {
          "output_type": "stream",
          "text": [
            "tf.Tensor(\n",
            "[-0.01203897  0.03800548 -0.07376296  0.09573031  0.01758991  0.0371924\n",
            " -0.10591132 -0.07365032 -0.04993728 -0.11741829], shape=(10,), dtype=float32)\n",
            "tf.Tensor(\n",
            "[-0.01203897  0.03800548 -0.07376296  0.09573031  0.01758991  0.0371924\n",
            " -0.10591132 -0.07365032 -0.04993728 -0.11741829], shape=(10,), dtype=float32)\n"
          ],
          "name": "stdout"
        }
      ]
    },
    {
      "cell_type": "code",
      "metadata": {
        "id": "MVukGYQU-wYp",
        "colab_type": "code",
        "colab": {}
      },
      "source": [
        "# Decoder states - shape is LSTM_Size\n",
        "decoder_state_h=Input(shape=(256))\n",
        "decoder_state_c=Input(shape=(256))\n",
        "decoder_state_inputs=[decoder_state_h,decoder_state_c]"
      ],
      "execution_count": null,
      "outputs": []
    },
    {
      "cell_type": "code",
      "metadata": {
        "id": "qydyOxpe-wnZ",
        "colab_type": "code",
        "colab": {}
      },
      "source": [
        "# Input to decoder is send to embedding layer\n",
        "decoder_embedding_output=decoder_embedding_layer(input_decoder)\n",
        "\n",
        "# Get the decoder outputs when a particular input and initial_state is given\n",
        "decoder_outputs,state_h,state_c=decoder_lstm(decoder_embedding_output,initial_state=decoder_state_inputs)\n",
        "decoder_states=[state_h,state_c]\n",
        "# Send the decoder outputs to the dense layer to get the predicted word\n",
        "decoder_outputs=decoder_dense(decoder_outputs)"
      ],
      "execution_count": null,
      "outputs": []
    },
    {
      "cell_type": "code",
      "metadata": {
        "id": "YNssnKPTJ47n",
        "colab_type": "code",
        "colab": {}
      },
      "source": [
        "# decoder model takes two inputs 1. Decoder input 2. Decoder initial states\n",
        "# returns two outputs 1. Decoder outputs 2. decoder states(hidden_state and cell state)\n",
        "decoder_model=Model([input_decoder]+decoder_state_inputs,[decoder_outputs]+decoder_states)"
      ],
      "execution_count": null,
      "outputs": []
    },
    {
      "cell_type": "code",
      "metadata": {
        "id": "vWQnWx6m-wp6",
        "colab_type": "code",
        "colab": {
          "base_uri": "https://localhost:8080/",
          "height": 411
        },
        "outputId": "6fc1b931-b7f1-440f-a41b-2a918f053887"
      },
      "source": [
        "decoder_model.summary()"
      ],
      "execution_count": null,
      "outputs": [
        {
          "output_type": "stream",
          "text": [
            "Model: \"model_2\"\n",
            "__________________________________________________________________________________________________\n",
            "Layer (type)                    Output Shape         Param #     Connected to                     \n",
            "==================================================================================================\n",
            "input_2 (InputLayer)            [(None, None)]       0                                            \n",
            "__________________________________________________________________________________________________\n",
            "embedding_1 (Embedding)         (None, None, 128)    287232      input_2[0][0]                    \n",
            "__________________________________________________________________________________________________\n",
            "input_3 (InputLayer)            [(None, 256)]        0                                            \n",
            "__________________________________________________________________________________________________\n",
            "input_4 (InputLayer)            [(None, 256)]        0                                            \n",
            "__________________________________________________________________________________________________\n",
            "lstm_1 (LSTM)                   [(None, None, 256),  394240      embedding_1[1][0]                \n",
            "                                                                 input_3[0][0]                    \n",
            "                                                                 input_4[0][0]                    \n",
            "__________________________________________________________________________________________________\n",
            "time_distributed (TimeDistribut (None, None, 2244)   576708      lstm_1[1][0]                     \n",
            "==================================================================================================\n",
            "Total params: 1,258,180\n",
            "Trainable params: 1,258,180\n",
            "Non-trainable params: 0\n",
            "__________________________________________________________________________________________________\n"
          ],
          "name": "stdout"
        }
      ]
    },
    {
      "cell_type": "code",
      "metadata": {
        "id": "plGSq0xgKmSQ",
        "colab_type": "code",
        "colab": {}
      },
      "source": [
        "def inference(seq):\n",
        "  '''\n",
        "    Function that takes Italian sequence and returns English sequence\n",
        "  '''\n",
        "  # Input the sequence to encoder_model and get the final timestep encoder_states(Hidden and cell state)\n",
        "  seq=seq.reshape(-1,9)\n",
        "  encoder_state_value=encoder_model.predict(seq)\n",
        "  encoder_state_value=encoder_state_value[1:]\n",
        "  # encoder_state_value[0] -- hidden_state -- shape (None,256)\n",
        "  # encoder_state_value[1] -- cell_state -- shape (None,256)\n",
        "\n",
        "  # Target word\n",
        "  target_word=np.zeros((1,1))\n",
        "  # <start>:1 , <end>:2 -- \n",
        "  target_word[0,0]=1\n",
        "  \n",
        "  stop_condition=False\n",
        "  sent=''\n",
        "  k=0\n",
        "  while not stop_condition:\n",
        "\n",
        "      # We are giving a target_word which represents <start> and encoder_states to the decoder_model\n",
        "      output,state_h,state_c=decoder_model.predict([target_word]+encoder_state_value)\n",
        "      # As the target word length is 1. We will only have one time step\n",
        "      encoder_state_value=[state_h,state_c]\n",
        "      # Output shape (1,eng_vocab_size). Find the word which the decoder predicted with max_probability\n",
        "      output=np.argmax(output,-1)\n",
        "      #print(output)\n",
        "      # The output is a integer sequence, to get back the word. We use our lookup table reverse_dict\n",
        "      sent=sent+' '+eng_index_word[int(output)]\n",
        "      k+=1\n",
        "      # If the max_length of the sequence is reached or the model predicted 2 (<end>) stop your model\n",
        "      if k>5 or output==2:\n",
        "        stop_condition=True\n",
        "      target_word=output.reshape(1,1)\n",
        "  \n",
        "  return sent"
      ],
      "execution_count": null,
      "outputs": []
    },
    {
      "cell_type": "code",
      "metadata": {
        "id": "F8853WA1K-GC",
        "colab_type": "code",
        "colab": {
          "base_uri": "https://localhost:8080/",
          "height": 255
        },
        "outputId": "3156a71b-0a5d-4642-e090-793f67ae5f3e"
      },
      "source": [
        "from prettytable import PrettyTable\n",
        "import random    \n",
        "x = PrettyTable()\n",
        "x.field_names = [\"Input data\", \"Actual data\", \"Predicted data\"]\n",
        "for i in range(10):\n",
        "  index=random.randint(1,10000)\n",
        "  pred=inference(inp_lan[index])\n",
        "  x.add_row([ita_data[index],eng_out[index],pred])\n",
        "  # print('Input data is: ',ita_data[index])\n",
        "  # print('Actual data is: ',eng_out[index])\n",
        "  # print('Predicted data is:',pred)\n",
        "print(x)"
      ],
      "execution_count": null,
      "outputs": [
        {
          "output_type": "stream",
          "text": [
            "+------------------------------+----------------------+------------------------+\n",
            "|          Input data          |     Actual data      |     Predicted data     |\n",
            "+------------------------------+----------------------+------------------------+\n",
            "|         camminammo .         |  we walked . <end>   |   we remember . <end>  |\n",
            "|         che sfiga !          |  tough luck ! <end>  |      nice . <end>      |\n",
            "| tom ha mangiato avidamente . | tom scoffed . <end>  |   tom winked . <end>   |\n",
            "|      l abbiamo vista .       |  we saw you . <end>  |   we saw you . <end>   |\n",
            "|     il sangue e rosso .      | blood is red . <end> |  red is better . <end> |\n",
            "|         io guidero .         |  i ll drive . <end>  |   i ll drive . <end>   |\n",
            "|   sono impegnato adesso .    | i m busy now . <end> |  i m busy now . <end>  |\n",
            "|         e gentile .          | you re kind . <end>  |   she is kind . <end>  |\n",
            "|    io riesco a saltare .     |  i can jump . <end>  |  i can do this . <end> |\n",
            "|         lui morira ?         | will he die ? <end>  |   will he die ? <end>  |\n",
            "+------------------------------+----------------------+------------------------+\n"
          ],
          "name": "stdout"
        }
      ]
    }
  ]
}
